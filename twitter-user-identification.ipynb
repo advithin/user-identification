{
 "cells": [
  {
   "cell_type": "code",
   "execution_count": 40,
   "metadata": {},
   "outputs": [
    {
     "name": "stdout",
     "output_type": "stream",
     "text": [
      "Done\n"
     ]
    }
   ],
   "source": [
    "import numpy as np\n",
    "import twitter, re, datetime, pandas as pd\n",
    "twitter_keys = {\n",
    "    'consumer_key':        'L4sziHBqV4VUIfKezbos0JMVl',\n",
    "    'consumer_secret':     'lJau6R7GIHFwoGR5wB3PlLQPXBChwzJFJ9WGXXtazcDSA1Vb1X',\n",
    "    'access_token_key':    '941359629606539264-05XcmQfdwMXTbPNWS3r7cZThvbQBxCK',\n",
    "    'access_token_secret': 'VdE3VJVk6oxbohQGcw7WYA5Tg4Sr8kW9duTO1wxmB6qXk'\n",
    "}\n",
    "api = twitter.Api(\n",
    "    consumer_key         =   twitter_keys['consumer_key'],\n",
    "    consumer_secret      =   twitter_keys['consumer_secret'],\n",
    "    access_token_key     =   twitter_keys['access_token_key'],\n",
    "    access_token_secret  =   twitter_keys['access_token_secret'],\n",
    "    tweet_mode = 'extended'\n",
    ")\n",
    "print(\"Done\")"
   ]
  },
  {
   "cell_type": "code",
   "execution_count": 41,
   "metadata": {},
   "outputs": [
    {
     "data": {
      "text/plain": [
       "twitter.api.Api"
      ]
     },
     "execution_count": 41,
     "metadata": {},
     "output_type": "execute_result"
    }
   ],
   "source": [
    "type(api)"
   ]
  },
  {
   "cell_type": "code",
   "execution_count": 42,
   "metadata": {
    "scrolled": true
   },
   "outputs": [
    {
     "data": {
      "text/plain": [
       "{'created_at': 'Thu Dec 02 19:15:17 +0000 2021',\n",
       " 'favorite_count': 3245,\n",
       " 'full_text': \"Trump's effort to subvert our democracy is ongoing in states around the country.\\n\\nhttps://t.co/YBN0JRnTeb\",\n",
       " 'hashtags': [],\n",
       " 'id': 1466486144443506698,\n",
       " 'id_str': '1466486144443506698',\n",
       " 'lang': 'en',\n",
       " 'retweet_count': 1150,\n",
       " 'source': '<a href=\"https://mobile.twitter.com\" rel=\"nofollow\">Twitter Web App</a>',\n",
       " 'urls': [{'expanded_url': 'https://www.washingtonpost.com/politics/trump-allies-election-oversight/2021/11/28/3933b3ce-4227-11ec-9ea7-3eb2406a2e24_story.html',\n",
       "   'url': 'https://t.co/YBN0JRnTeb'}],\n",
       " 'user': {'created_at': 'Tue Apr 09 18:04:35 +0000 2013',\n",
       "  'description': '2016 Democratic Nominee, SecState, Senator, hair icon. Mom, Wife, Grandma x3, lawyer, advocate, fan of walks in the woods & standing up for our democracy.',\n",
       "  'favourites_count': 1173,\n",
       "  'followers_count': 31051205,\n",
       "  'friends_count': 947,\n",
       "  'id': 1339835893,\n",
       "  'id_str': '1339835893',\n",
       "  'listed_count': 42289,\n",
       "  'location': 'New York, NY',\n",
       "  'name': 'Hillary Clinton',\n",
       "  'profile_background_color': '0057B8',\n",
       "  'profile_background_image_url': 'http://abs.twimg.com/images/themes/theme1/bg.png',\n",
       "  'profile_background_image_url_https': 'https://abs.twimg.com/images/themes/theme1/bg.png',\n",
       "  'profile_banner_url': 'https://pbs.twimg.com/profile_banners/1339835893/1539631689',\n",
       "  'profile_image_url': 'http://pbs.twimg.com/profile_images/1291192333199958017/SvH8J8_P_normal.jpg',\n",
       "  'profile_image_url_https': 'https://pbs.twimg.com/profile_images/1291192333199958017/SvH8J8_P_normal.jpg',\n",
       "  'profile_link_color': '0057B8',\n",
       "  'profile_sidebar_border_color': '000000',\n",
       "  'profile_sidebar_fill_color': '000000',\n",
       "  'profile_text_color': '000000',\n",
       "  'screen_name': 'HillaryClinton',\n",
       "  'statuses_count': 13033,\n",
       "  'url': 'https://t.co/99DVW9q1yt',\n",
       "  'verified': True,\n",
       "  'withheld_in_countries': []},\n",
       " 'user_mentions': []}"
      ]
     },
     "execution_count": 42,
     "metadata": {},
     "output_type": "execute_result"
    }
   ],
   "source": [
    "x = api.GetUserTimeline(screen_name=\"HillaryClinton\", count=20, include_rts=False)\n",
    "x = [_.AsDict() for _ in x]\n",
    "x[0]"
   ]
  },
  {
   "cell_type": "code",
   "execution_count": 43,
   "metadata": {},
   "outputs": [
    {
     "name": "stdout",
     "output_type": "stream",
     "text": [
      "1466486144443506698\n",
      "Trump's effort to subvert our democracy is ongoing in states around the country.\n",
      "\n",
      "https://t.co/YBN0JRnTeb\n",
      "--\n",
      "1466479975599640580\n",
      "Thank you for sharing your story, Billie Jean. https://t.co/nVgsb9OK5T\n",
      "--\n",
      "1466461279116218370\n",
      "Today is a good day to donate to Planned Parenthood and their Action Fund. https://t.co/xBMO5X5tKn\n",
      "\n",
      "https://t.co/quAMdLZBMJ\n",
      "--\n",
      "1466174036166299653\n",
      "I’m with @StaceyAbrams. Are you? https://t.co/RSQFVZesNM\n",
      "--\n",
      "1466130171996557320\n",
      "Looking forward to celebrating these incredible women with all of you. https://t.co/726vYcoUSc\n",
      "--\n",
      "1466073531435868164\n",
      "Could have been based on anyone.... https://t.co/bxYrbg1m26\n",
      "--\n",
      "1466054451295313920\n",
      "We cannot and will not leave our granddaughters a world in which they have fewer rights and opportunities than we did.\n",
      "--\n",
      "1465737796019265538\n",
      "In one week: \n",
      "\n",
      "Join me, @BenAffleck, @EricHolder, and @TraceeEllisRoss to talk about an urgent threat to our democracy—partisan gerrymandering—and what we can about it. \n",
      "\n",
      "https://t.co/Se8awDs40E https://t.co/B3Ps28fqKJ\n",
      "--\n",
      "1465705081106362369\n",
      "From supporting recovery efforts after natural disasters to helping U.S. children get healthier meals, @ClintonFdn puts people first. \n",
      "\n",
      "This Giving Tuesday, become a part of the foundation's work and double your impact at the same time: https://t.co/TpLmac871Z https://t.co/e2kDY0l1PC\n",
      "--\n",
      "1465384657512456197\n",
      "Libraries are one of my very favorite things, too. Thanks for reading, Linda! https://t.co/QRlz50HNCH\n",
      "--\n",
      "1465372760746700806\n",
      "Breaking: Voter suppression law working as intended. https://t.co/XBkIvCxhhB\n",
      "--\n",
      "1465062297794142212\n",
      "Wishing everyone celebrating the festival of lights the happiest of Hanukkahs. 🕎 https://t.co/VvhGaOU16C\n",
      "--\n",
      "1464418577767927816\n",
      "A peerless composer and lyricist, Stephen Sondheim stirred our souls, broadened our imaginations, and reminded us that no one is alone. \n",
      "\n",
      "He changed the theatre—and our culture—with his craft, his humor, and his heart. Everybody rise! https://t.co/iWo3xcVh8g\n",
      "--\n",
      "1464277396383797290\n",
      "Today, support organizations working to protect our democracy while getting 25% off the most popular items in the @OnwardTogether store.\n",
      "\n",
      "It's a pretty big deal. #BlackFriday \n",
      "\n",
      "https://t.co/1Fn0Qm9ABz https://t.co/cvUywH1PD5\n",
      "--\n",
      "1463871182856507398\n",
      "Happy Thanksgiving! This one is all the more joyful for the greater opportunities to gather more safely with family and friends. \n",
      "\n",
      "Wishing you a wonderful and delicious holiday full of gratitude. https://t.co/u365EOQCra\n",
      "--\n"
     ]
    }
   ],
   "source": [
    "for element in x:\n",
    "    print(element['id'])\n",
    "    print(element['full_text'])\n",
    "    print('--')"
   ]
  },
  {
   "cell_type": "code",
   "execution_count": 44,
   "metadata": {},
   "outputs": [
    {
     "name": "stdout",
     "output_type": "stream",
     "text": [
      "Done\n"
     ]
    }
   ],
   "source": [
    "y = api.GetUserTimeline(screen_name=\"HillaryClinton\", count=20, max_id=935706980643147777, include_rts=False)\n",
    "y = [_.AsDict() for _ in y]\n",
    "print(\"Done\")"
   ]
  },
  {
   "cell_type": "code",
   "execution_count": 45,
   "metadata": {},
   "outputs": [
    {
     "name": "stdout",
     "output_type": "stream",
     "text": [
      "933449899487780864\n",
      "<class 'dict'>\n",
      "\n",
      "\n",
      "933449899487780864\n",
      "You go girl! This is important; costs will go up, &amp; powerful companies will get more powerful. We can’t let it slip through the cracks. https://t.co/js4agpzKeS\n",
      "--\n",
      "933107180131282944\n",
      "And on top of that, you can’t beat a little book signing wardrobe fun.\n",
      "\n",
      "https://t.co/K8VldCmTC6 https://t.co/9q9sTlpL3I\n",
      "--\n",
      "933105980484747264\n",
      "And being out on the book tour it has been wonderful to hear from so many people about their activism, their courage, &amp; their resilience.\n",
      "https://t.co/LhtTwV7N0d\n",
      "--\n",
      "933105682378870784\n",
      "Wow. I wasn’t sure how letting my guard down would go...but it’s been cathartic &amp; rewarding. I loved writing this book, &amp; I’m honored to be in such great company on this list!\n",
      "https://t.co/rAYpWHzxrJ\n",
      "--\n",
      "932746529475055618\n",
      "It’s been almost 2 months since Congress let the program that provides health care for 9 million children expire. Call Congress &amp; tell them to reauthorize CHIP now: 202-224-3121 https://t.co/jk1FhOcMp2\n",
      "--\n",
      "931292276709580802\n",
      "It’s true! I want to join your book club to talk about What Happened &amp; what’s happening...sign up! https://t.co/hmWiCrBgsq\n",
      "--\n",
      "931292070312140804\n",
      "@BenSPLATT @DearEvanHansen Two friends on a perfect day. Sincerely, me.\n",
      "--\n",
      "931167854828883968\n",
      "Good. https://t.co/IqanY3F28F\n",
      "--\n",
      "930540319606747137\n",
      "Being your candidate was the honor of a lifetime. Now it's your turn to #runforsomething: https://t.co/ODzNQEossm\n",
      "--\n",
      "930519362158686209\n",
      "Looking forward to a great discussion with my friend Dorothy and to a great day @UVA! Tune in:\n",
      "https://t.co/L20mjSwhCR https://t.co/02ALVZAAKZ\n",
      "--\n",
      "930082055278428160\n",
      "Join me live this morning at 9:45am for an important discussion about child &amp; adolescent mental health, focused on solutions for families &amp; communities. #ChildMindSummit \n",
      "https://t.co/317gv59kHQ\n",
      "--\n",
      "929862099446181888\n",
      "Proud of you, Becca! \n",
      "https://t.co/xAY3yzdf7f https://t.co/lEo1f5eYDq\n",
      "--\n",
      "929749504131289088\n",
      "It was a thrill to work on this project with @ElaineWelteroth.  I’m really proud of the result. I hope you enjoy it. https://t.co/MILM8WdvOg\n",
      "--\n"
     ]
    }
   ],
   "source": [
    "print(y[0]['id'])\n",
    "print(type(y[0]))\n",
    "print(\"\\n\")\n",
    "for element in y:\n",
    "    print(element['id'])\n",
    "    print(element['full_text'])\n",
    "    print('--')"
   ]
  },
  {
   "cell_type": "code",
   "execution_count": 46,
   "metadata": {},
   "outputs": [
    {
     "name": "stdout",
     "output_type": "stream",
     "text": [
      "Done\n"
     ]
    }
   ],
   "source": [
    "class TweetMiner(object):    \n",
    "    def __init__(self, api, result_limit = 20):        \n",
    "        self.api = api        \n",
    "        self.result_limit = result_limit\n",
    "    def mine_user_tweets(self, user=\"HillaryClinton\", mine_retweets=False, max_pages=20):\n",
    "        data           =  []\n",
    "        last_tweet_id  =  False\n",
    "        page           =  1\n",
    "        while page <= max_pages:\n",
    "            if last_tweet_id:\n",
    "                statuses   =   self.api.GetUserTimeline(screen_name=user, count=self.result_limit, max_id=last_tweet_id - 1, include_rts=mine_retweets)\n",
    "                statuses = [ _.AsDict() for _ in statuses]\n",
    "            else:\n",
    "                statuses   =   self.api.GetUserTimeline(screen_name=user, count=self.result_limit, include_rts=mine_retweets)\n",
    "                statuses = [_.AsDict() for _ in statuses]\n",
    "                \n",
    "            for item in statuses:\n",
    "                # Using try except here.\n",
    "                # When retweets = 0 we get an error (GetUserTimeline fails to create a key, 'retweet_count')\n",
    "                try:\n",
    "                    mined = {\n",
    "                        'tweet_id':        item['id'],\n",
    "                        'handle':          item['user']['screen_name'],\n",
    "                        'retweet_count':   item['retweet_count'],\n",
    "                        'text':            item['full_text'],\n",
    "                        'mined_at':        datetime.datetime.now(),\n",
    "                        'created_at':      item['created_at'],\n",
    "                    }\n",
    "                except:\n",
    "                        mined = {\n",
    "                        'tweet_id':        item['id'],\n",
    "                        'handle':          item['user']['screen_name'],\n",
    "                        'retweet_count':   0,\n",
    "                        'text':            item['full_text'],\n",
    "                        'mined_at':        datetime.datetime.now(),\n",
    "                        'created_at':      item['created_at'],\n",
    "                    }\n",
    "                last_tweet_id = item['id']\n",
    "                data.append(mined)\n",
    "            page += 1\n",
    "        return data\n",
    "print(\"Done\")"
   ]
  },
  {
   "cell_type": "code",
   "execution_count": 47,
   "metadata": {},
   "outputs": [
    {
     "name": "stdout",
     "output_type": "stream",
     "text": [
      "Done\n"
     ]
    }
   ],
   "source": [
    "miner = TweetMiner(api, result_limit=5000)\n",
    "hillary = miner.mine_user_tweets(user=\"HillaryClinton\", max_pages=18)\n",
    "# donald = miner.mine_user_tweets(user=\"realDonaldTrump\", max_pages=18)\n",
    "modi = miner.mine_user_tweets(user=\"narendramodi\", max_pages=18)\n",
    "kimk = miner.mine_user_tweets(user=\"KimKardashian\", max_pages=18)\n",
    "kohli = miner.mine_user_tweets(user=\"imVkohli\", max_pages=18)\n",
    "print(\"Done\")"
   ]
  },
  {
   "cell_type": "code",
   "execution_count": 48,
   "metadata": {},
   "outputs": [
    {
     "name": "stdout",
     "output_type": "stream",
     "text": [
      "I know I really wanted to!!!! https://t.co/Lfoo8gCzvC\n",
      "---\n",
      "His cast is finally off but he’s in a brace now https://t.co/QSgAlK3DD0\n",
      "---\n",
      "Hi!!!! https://t.co/JyLLZKqkSu\n",
      "---\n",
      "No shade throwing, I don’t do subs. I want everyone to win. I just had a good caption LOL https://t.co/yf1CqtUXNH\n",
      "---\n",
      "Just added new items to my #KardashianKloset https://t.co/SUNF70tqmw\n",
      "---\n"
     ]
    }
   ],
   "source": [
    "for x in range(5):\n",
    "    print(kimk[x]['text'])\n",
    "    print('---')"
   ]
  },
  {
   "cell_type": "code",
   "execution_count": 49,
   "metadata": {},
   "outputs": [
    {
     "name": "stdout",
     "output_type": "stream",
     "text": [
      "Addressing a public meeting in Dehradun. https://t.co/i6nXAdiafu\n",
      "--\n",
      "Saddened by the passing away of Shri K. Rosaiah Garu. I recall my interactions with him when we both served as Chief Ministers and later when he was Tamil Nadu Governor. His contributions to public service will be remembered. Condolences to his family and supporters. Om Shanti. https://t.co/zTWyh3C8u1\n",
      "--\n",
      "Greetings on Navy Day. We are proud of the exemplary contributions of the Indian navy. Our navy is widely respected for its professionalism and outstanding courage. Our navy personnel have always been at the forefront of mitigating crisis situations like natural disasters. https://t.co/Cc4XgbMYuz\n",
      "--\n",
      "देवभूमि उत्तराखंड की विकास यात्रा में कल एक स्वर्णिम अध्याय जुड़ेगा। देहरादून में दोपहर 1 बजे मुझे 18 हजार करोड़ रुपये की कई परियोजनाओं के उद्घाटन और शिलान्यास का सौभाग्य प्राप्त होगा। इनमें दिल्ली-देहरादून आर्थिक गलियारा समेत कई प्रोजेक्ट शामिल हैं।\n",
      "https://t.co/nGzlXpGVGN\n",
      "--\n",
      "GIFT City in Gujarat represents India’s vibrancy, democratic ethos and diversity. https://t.co/npwqhQHmUT\n",
      "--\n"
     ]
    }
   ],
   "source": [
    "for x in range(5):\n",
    "    print(modi[x]['text'])\n",
    "    print('--')"
   ]
  },
  {
   "cell_type": "code",
   "execution_count": 50,
   "metadata": {},
   "outputs": [],
   "source": [
    "hillary_df=pd.DataFrame(hillary)\n",
    "# trump_df=pd.DataFrame(donald)\n",
    "modi_df=pd.DataFrame(modi)\n",
    "kohli_df=pd.DataFrame(kohli)\n",
    "kimk_df=pd.DataFrame(kimk)"
   ]
  },
  {
   "cell_type": "code",
   "execution_count": 51,
   "metadata": {},
   "outputs": [
    {
     "name": "stdout",
     "output_type": "stream",
     "text": [
      "(2541, 6)\n",
      "(3215, 6)\n",
      "(2399, 6)\n",
      "(2502, 6)\n"
     ]
    }
   ],
   "source": [
    "print(hillary_df.shape)\n",
    "# print(trump_df.shape)\n",
    "print(modi_df.shape)\n",
    "print(kohli_df.shape)\n",
    "print(kimk_df.shape)"
   ]
  },
  {
   "cell_type": "code",
   "execution_count": 52,
   "metadata": {},
   "outputs": [
    {
     "data": {
      "text/plain": [
       "(10657, 6)"
      ]
     },
     "execution_count": 52,
     "metadata": {},
     "output_type": "execute_result"
    }
   ],
   "source": [
    "tweets = pd.concat([hillary_df, modi_df, kohli_df, kimk_df], axis=0)\n",
    "tweets.shape"
   ]
  },
  {
   "cell_type": "code",
   "execution_count": 53,
   "metadata": {},
   "outputs": [
    {
     "data": {
      "text/plain": [
       "[('god bless', 47),\n",
       " ('happy birthday', 40),\n",
       " ('jai hind', 37),\n",
       " ('anushkasharma thank', 34),\n",
       " ('staywrogn https', 30),\n",
       " ('rcbtweets https', 29),\n",
       " ('anushkasharma thanks', 28),\n",
       " ('great day', 24),\n",
       " ('year ahead', 24),\n",
       " ('looking forward', 20),\n",
       " ('hind https', 19),\n",
       " ('thank wishes', 19),\n",
       " ('jai hind https', 19),\n",
       " ('anushkasharma https', 16),\n",
       " ('good health', 16),\n",
       " ('ad https', 15),\n",
       " ('day https', 15),\n",
       " ('new year', 15),\n",
       " ('playbold rcbtweets', 14),\n",
       " ('great year', 14)]"
      ]
     },
     "execution_count": 53,
     "metadata": {},
     "output_type": "execute_result"
    }
   ],
   "source": [
    "from sklearn.feature_extraction.text import TfidfVectorizer\n",
    "from collections import Counter\n",
    "vect = TfidfVectorizer(ngram_range=(2,5), stop_words='english')\n",
    "summaries = \"\".join(kohli_df['text'])\n",
    "ngrams_summaries = vect.build_analyzer()(summaries)\n",
    "Counter(ngrams_summaries).most_common(20)"
   ]
  },
  {
   "cell_type": "code",
   "execution_count": 54,
   "metadata": {},
   "outputs": [],
   "source": [
    "from textacy.preprocess import preprocess_text\n",
    "tweet_text = tweets['text'].values\n",
    "clean_text = [preprocess_text(x, fix_unicode=True, lowercase=True, no_urls=True, no_emails=True, no_phone_numbers=True, no_currency_symbols=True,\n",
    "                              no_punct=True, no_accents=True)\n",
    "              for x in tweet_text]"
   ]
  },
  {
   "cell_type": "code",
   "execution_count": 55,
   "metadata": {
    "scrolled": true
   },
   "outputs": [
    {
     "name": "stdout",
     "output_type": "stream",
     "text": [
      "['thank you for sharing your story billie jean url', 'today is a good day to donate to planned parenthood and their action fund url url', 'i m with staceyabrams are you url', 'looking forward to celebrating these incredible women with all of you url', 'could have been based on anyone url', 'we cannot and will not leave our granddaughters a world in which they have fewer rights and opportunities than we did', 'in one week join me benaffleck ericholder and traceeellisross to talk about an urgent threat to our democracy partisan gerrymandering and what we can about it url url']\n"
     ]
    }
   ],
   "source": [
    "print(clean_text[1:8])"
   ]
  },
  {
   "cell_type": "code",
   "execution_count": 56,
   "metadata": {},
   "outputs": [
    {
     "name": "stdout",
     "output_type": "stream",
     "text": [
      "0.3016796471802571\n"
     ]
    }
   ],
   "source": [
    "temp={'HillaryClinton':1,'realDonaldTrump':2,'narendramodi':3,'KimKardashian':4,'imVkohli':5}\n",
    "y = tweets['handle'].map(lambda x: temp[x]).values\n",
    "print(max(pd.Series(y).value_counts(normalize=True)))"
   ]
  },
  {
   "cell_type": "code",
   "execution_count": 57,
   "metadata": {},
   "outputs": [
    {
     "name": "stdout",
     "output_type": "stream",
     "text": [
      "(10657, 2500)\n"
     ]
    }
   ],
   "source": [
    "from sklearn.linear_model import LogisticRegression\n",
    "from sklearn.neighbors import KNeighborsClassifier\n",
    "from sklearn.tree import DecisionTreeClassifier\n",
    "from sklearn.svm import SVC\n",
    "tfv = TfidfVectorizer(ngram_range=(2,4), max_features=2500)\n",
    "X = tfv.fit_transform(clean_text).todense()\n",
    "print(X.shape)"
   ]
  },
  {
   "cell_type": "code",
   "execution_count": null,
   "metadata": {},
   "outputs": [
    {
     "name": "stdout",
     "output_type": "stream",
     "text": [
      "Fitting 10 folds for each of 200 candidates, totalling 2000 fits\n"
     ]
    },
    {
     "name": "stderr",
     "output_type": "stream",
     "text": [
      "[Parallel(n_jobs=1)]: Using backend SequentialBackend with 1 concurrent workers.\n",
      "/Users/advithinair/anaconda3/lib/python3.7/site-packages/sklearn/linear_model/logistic.py:433: FutureWarning: Default solver will be changed to 'lbfgs' in 0.22. Specify a solver to silence this warning.\n",
      "  FutureWarning)\n",
      "/Users/advithinair/anaconda3/lib/python3.7/site-packages/sklearn/linear_model/logistic.py:460: FutureWarning: Default multi_class will be changed to 'auto' in 0.22. Specify the multi_class option to silence this warning.\n",
      "  \"this warning.\", FutureWarning)\n",
      "/Users/advithinair/anaconda3/lib/python3.7/site-packages/sklearn/linear_model/logistic.py:433: FutureWarning: Default solver will be changed to 'lbfgs' in 0.22. Specify a solver to silence this warning.\n",
      "  FutureWarning)\n",
      "/Users/advithinair/anaconda3/lib/python3.7/site-packages/sklearn/linear_model/logistic.py:460: FutureWarning: Default multi_class will be changed to 'auto' in 0.22. Specify the multi_class option to silence this warning.\n",
      "  \"this warning.\", FutureWarning)\n",
      "/Users/advithinair/anaconda3/lib/python3.7/site-packages/sklearn/linear_model/logistic.py:433: FutureWarning: Default solver will be changed to 'lbfgs' in 0.22. Specify a solver to silence this warning.\n",
      "  FutureWarning)\n",
      "/Users/advithinair/anaconda3/lib/python3.7/site-packages/sklearn/linear_model/logistic.py:460: FutureWarning: Default multi_class will be changed to 'auto' in 0.22. Specify the multi_class option to silence this warning.\n",
      "  \"this warning.\", FutureWarning)\n",
      "/Users/advithinair/anaconda3/lib/python3.7/site-packages/sklearn/linear_model/logistic.py:433: FutureWarning: Default solver will be changed to 'lbfgs' in 0.22. Specify a solver to silence this warning.\n",
      "  FutureWarning)\n",
      "/Users/advithinair/anaconda3/lib/python3.7/site-packages/sklearn/linear_model/logistic.py:460: FutureWarning: Default multi_class will be changed to 'auto' in 0.22. Specify the multi_class option to silence this warning.\n",
      "  \"this warning.\", FutureWarning)\n",
      "/Users/advithinair/anaconda3/lib/python3.7/site-packages/sklearn/linear_model/logistic.py:433: FutureWarning: Default solver will be changed to 'lbfgs' in 0.22. Specify a solver to silence this warning.\n",
      "  FutureWarning)\n",
      "/Users/advithinair/anaconda3/lib/python3.7/site-packages/sklearn/linear_model/logistic.py:460: FutureWarning: Default multi_class will be changed to 'auto' in 0.22. Specify the multi_class option to silence this warning.\n",
      "  \"this warning.\", FutureWarning)\n",
      "/Users/advithinair/anaconda3/lib/python3.7/site-packages/sklearn/linear_model/logistic.py:433: FutureWarning: Default solver will be changed to 'lbfgs' in 0.22. Specify a solver to silence this warning.\n",
      "  FutureWarning)\n",
      "/Users/advithinair/anaconda3/lib/python3.7/site-packages/sklearn/linear_model/logistic.py:460: FutureWarning: Default multi_class will be changed to 'auto' in 0.22. Specify the multi_class option to silence this warning.\n",
      "  \"this warning.\", FutureWarning)\n",
      "/Users/advithinair/anaconda3/lib/python3.7/site-packages/sklearn/linear_model/logistic.py:433: FutureWarning: Default solver will be changed to 'lbfgs' in 0.22. Specify a solver to silence this warning.\n",
      "  FutureWarning)\n",
      "/Users/advithinair/anaconda3/lib/python3.7/site-packages/sklearn/linear_model/logistic.py:460: FutureWarning: Default multi_class will be changed to 'auto' in 0.22. Specify the multi_class option to silence this warning.\n",
      "  \"this warning.\", FutureWarning)\n",
      "/Users/advithinair/anaconda3/lib/python3.7/site-packages/sklearn/linear_model/logistic.py:433: FutureWarning: Default solver will be changed to 'lbfgs' in 0.22. Specify a solver to silence this warning.\n",
      "  FutureWarning)\n",
      "/Users/advithinair/anaconda3/lib/python3.7/site-packages/sklearn/linear_model/logistic.py:460: FutureWarning: Default multi_class will be changed to 'auto' in 0.22. Specify the multi_class option to silence this warning.\n",
      "  \"this warning.\", FutureWarning)\n",
      "/Users/advithinair/anaconda3/lib/python3.7/site-packages/sklearn/linear_model/logistic.py:433: FutureWarning: Default solver will be changed to 'lbfgs' in 0.22. Specify a solver to silence this warning.\n",
      "  FutureWarning)\n",
      "/Users/advithinair/anaconda3/lib/python3.7/site-packages/sklearn/linear_model/logistic.py:460: FutureWarning: Default multi_class will be changed to 'auto' in 0.22. Specify the multi_class option to silence this warning.\n",
      "  \"this warning.\", FutureWarning)\n",
      "/Users/advithinair/anaconda3/lib/python3.7/site-packages/sklearn/linear_model/logistic.py:433: FutureWarning: Default solver will be changed to 'lbfgs' in 0.22. Specify a solver to silence this warning.\n",
      "  FutureWarning)\n",
      "/Users/advithinair/anaconda3/lib/python3.7/site-packages/sklearn/linear_model/logistic.py:460: FutureWarning: Default multi_class will be changed to 'auto' in 0.22. Specify the multi_class option to silence this warning.\n",
      "  \"this warning.\", FutureWarning)\n",
      "/Users/advithinair/anaconda3/lib/python3.7/site-packages/sklearn/linear_model/logistic.py:433: FutureWarning: Default solver will be changed to 'lbfgs' in 0.22. Specify a solver to silence this warning.\n",
      "  FutureWarning)\n",
      "/Users/advithinair/anaconda3/lib/python3.7/site-packages/sklearn/linear_model/logistic.py:460: FutureWarning: Default multi_class will be changed to 'auto' in 0.22. Specify the multi_class option to silence this warning.\n",
      "  \"this warning.\", FutureWarning)\n",
      "/Users/advithinair/anaconda3/lib/python3.7/site-packages/sklearn/linear_model/logistic.py:433: FutureWarning: Default solver will be changed to 'lbfgs' in 0.22. Specify a solver to silence this warning.\n",
      "  FutureWarning)\n",
      "/Users/advithinair/anaconda3/lib/python3.7/site-packages/sklearn/linear_model/logistic.py:460: FutureWarning: Default multi_class will be changed to 'auto' in 0.22. Specify the multi_class option to silence this warning.\n",
      "  \"this warning.\", FutureWarning)\n",
      "/Users/advithinair/anaconda3/lib/python3.7/site-packages/sklearn/linear_model/logistic.py:433: FutureWarning: Default solver will be changed to 'lbfgs' in 0.22. Specify a solver to silence this warning.\n",
      "  FutureWarning)\n",
      "/Users/advithinair/anaconda3/lib/python3.7/site-packages/sklearn/linear_model/logistic.py:460: FutureWarning: Default multi_class will be changed to 'auto' in 0.22. Specify the multi_class option to silence this warning.\n",
      "  \"this warning.\", FutureWarning)\n",
      "/Users/advithinair/anaconda3/lib/python3.7/site-packages/sklearn/linear_model/logistic.py:433: FutureWarning: Default solver will be changed to 'lbfgs' in 0.22. Specify a solver to silence this warning.\n",
      "  FutureWarning)\n",
      "/Users/advithinair/anaconda3/lib/python3.7/site-packages/sklearn/linear_model/logistic.py:460: FutureWarning: Default multi_class will be changed to 'auto' in 0.22. Specify the multi_class option to silence this warning.\n",
      "  \"this warning.\", FutureWarning)\n",
      "/Users/advithinair/anaconda3/lib/python3.7/site-packages/sklearn/linear_model/logistic.py:433: FutureWarning: Default solver will be changed to 'lbfgs' in 0.22. Specify a solver to silence this warning.\n",
      "  FutureWarning)\n",
      "/Users/advithinair/anaconda3/lib/python3.7/site-packages/sklearn/linear_model/logistic.py:460: FutureWarning: Default multi_class will be changed to 'auto' in 0.22. Specify the multi_class option to silence this warning.\n",
      "  \"this warning.\", FutureWarning)\n",
      "/Users/advithinair/anaconda3/lib/python3.7/site-packages/sklearn/linear_model/logistic.py:433: FutureWarning: Default solver will be changed to 'lbfgs' in 0.22. Specify a solver to silence this warning.\n",
      "  FutureWarning)\n",
      "/Users/advithinair/anaconda3/lib/python3.7/site-packages/sklearn/linear_model/logistic.py:460: FutureWarning: Default multi_class will be changed to 'auto' in 0.22. Specify the multi_class option to silence this warning.\n",
      "  \"this warning.\", FutureWarning)\n",
      "/Users/advithinair/anaconda3/lib/python3.7/site-packages/sklearn/linear_model/logistic.py:433: FutureWarning: Default solver will be changed to 'lbfgs' in 0.22. Specify a solver to silence this warning.\n",
      "  FutureWarning)\n",
      "/Users/advithinair/anaconda3/lib/python3.7/site-packages/sklearn/linear_model/logistic.py:460: FutureWarning: Default multi_class will be changed to 'auto' in 0.22. Specify the multi_class option to silence this warning.\n",
      "  \"this warning.\", FutureWarning)\n",
      "/Users/advithinair/anaconda3/lib/python3.7/site-packages/sklearn/linear_model/logistic.py:433: FutureWarning: Default solver will be changed to 'lbfgs' in 0.22. Specify a solver to silence this warning.\n",
      "  FutureWarning)\n",
      "/Users/advithinair/anaconda3/lib/python3.7/site-packages/sklearn/linear_model/logistic.py:460: FutureWarning: Default multi_class will be changed to 'auto' in 0.22. Specify the multi_class option to silence this warning.\n",
      "  \"this warning.\", FutureWarning)\n",
      "/Users/advithinair/anaconda3/lib/python3.7/site-packages/sklearn/linear_model/logistic.py:433: FutureWarning: Default solver will be changed to 'lbfgs' in 0.22. Specify a solver to silence this warning.\n",
      "  FutureWarning)\n"
     ]
    }
   ],
   "source": [
    "from sklearn.model_selection import GridSearchCV\n",
    "lr = LogisticRegression()\n",
    "params = {'penalty': ['l1', 'l2'], 'C':np.logspace(-5,0,100)}\n",
    "gs = GridSearchCV(lr, param_grid=params, cv=10, verbose=1)\n",
    "gs.fit(X, y)"
   ]
  },
  {
   "cell_type": "code",
   "execution_count": 66,
   "metadata": {},
   "outputs": [
    {
     "name": "stdout",
     "output_type": "stream",
     "text": [
      "{'C': 1.0, 'penalty': 'l2'}\n",
      "0.736323543211035\n"
     ]
    }
   ],
   "source": [
    "print(gs.best_params_)\n",
    "print(gs.best_score_)"
   ]
  },
  {
   "cell_type": "code",
   "execution_count": 88,
   "metadata": {},
   "outputs": [
    {
     "name": "stderr",
     "output_type": "stream",
     "text": [
      "/Users/advithinair/anaconda3/lib/python3.7/site-packages/sklearn/linear_model/logistic.py:433: FutureWarning: Default solver will be changed to 'lbfgs' in 0.22. Specify a solver to silence this warning.\n",
      "  FutureWarning)\n",
      "/Users/advithinair/anaconda3/lib/python3.7/site-packages/sklearn/linear_model/logistic.py:460: FutureWarning: Default multi_class will be changed to 'auto' in 0.22. Specify the multi_class option to silence this warning.\n",
      "  \"this warning.\", FutureWarning)\n",
      "/Users/advithinair/anaconda3/lib/python3.7/site-packages/sklearn/linear_model/logistic.py:433: FutureWarning: Default solver will be changed to 'lbfgs' in 0.22. Specify a solver to silence this warning.\n",
      "  FutureWarning)\n",
      "/Users/advithinair/anaconda3/lib/python3.7/site-packages/sklearn/linear_model/logistic.py:460: FutureWarning: Default multi_class will be changed to 'auto' in 0.22. Specify the multi_class option to silence this warning.\n",
      "  \"this warning.\", FutureWarning)\n",
      "/Users/advithinair/anaconda3/lib/python3.7/site-packages/sklearn/linear_model/logistic.py:433: FutureWarning: Default solver will be changed to 'lbfgs' in 0.22. Specify a solver to silence this warning.\n",
      "  FutureWarning)\n",
      "/Users/advithinair/anaconda3/lib/python3.7/site-packages/sklearn/linear_model/logistic.py:460: FutureWarning: Default multi_class will be changed to 'auto' in 0.22. Specify the multi_class option to silence this warning.\n",
      "  \"this warning.\", FutureWarning)\n",
      "/Users/advithinair/anaconda3/lib/python3.7/site-packages/sklearn/linear_model/logistic.py:433: FutureWarning: Default solver will be changed to 'lbfgs' in 0.22. Specify a solver to silence this warning.\n",
      "  FutureWarning)\n",
      "/Users/advithinair/anaconda3/lib/python3.7/site-packages/sklearn/linear_model/logistic.py:460: FutureWarning: Default multi_class will be changed to 'auto' in 0.22. Specify the multi_class option to silence this warning.\n",
      "  \"this warning.\", FutureWarning)\n",
      "/Users/advithinair/anaconda3/lib/python3.7/site-packages/sklearn/linear_model/logistic.py:433: FutureWarning: Default solver will be changed to 'lbfgs' in 0.22. Specify a solver to silence this warning.\n",
      "  FutureWarning)\n",
      "/Users/advithinair/anaconda3/lib/python3.7/site-packages/sklearn/linear_model/logistic.py:460: FutureWarning: Default multi_class will be changed to 'auto' in 0.22. Specify the multi_class option to silence this warning.\n",
      "  \"this warning.\", FutureWarning)\n",
      "/Users/advithinair/anaconda3/lib/python3.7/site-packages/sklearn/linear_model/logistic.py:433: FutureWarning: Default solver will be changed to 'lbfgs' in 0.22. Specify a solver to silence this warning.\n",
      "  FutureWarning)\n",
      "/Users/advithinair/anaconda3/lib/python3.7/site-packages/sklearn/linear_model/logistic.py:460: FutureWarning: Default multi_class will be changed to 'auto' in 0.22. Specify the multi_class option to silence this warning.\n",
      "  \"this warning.\", FutureWarning)\n",
      "/Users/advithinair/anaconda3/lib/python3.7/site-packages/sklearn/linear_model/logistic.py:433: FutureWarning: Default solver will be changed to 'lbfgs' in 0.22. Specify a solver to silence this warning.\n",
      "  FutureWarning)\n",
      "/Users/advithinair/anaconda3/lib/python3.7/site-packages/sklearn/linear_model/logistic.py:460: FutureWarning: Default multi_class will be changed to 'auto' in 0.22. Specify the multi_class option to silence this warning.\n",
      "  \"this warning.\", FutureWarning)\n",
      "/Users/advithinair/anaconda3/lib/python3.7/site-packages/sklearn/linear_model/logistic.py:433: FutureWarning: Default solver will be changed to 'lbfgs' in 0.22. Specify a solver to silence this warning.\n",
      "  FutureWarning)\n",
      "/Users/advithinair/anaconda3/lib/python3.7/site-packages/sklearn/linear_model/logistic.py:460: FutureWarning: Default multi_class will be changed to 'auto' in 0.22. Specify the multi_class option to silence this warning.\n",
      "  \"this warning.\", FutureWarning)\n",
      "/Users/advithinair/anaconda3/lib/python3.7/site-packages/sklearn/linear_model/logistic.py:433: FutureWarning: Default solver will be changed to 'lbfgs' in 0.22. Specify a solver to silence this warning.\n",
      "  FutureWarning)\n",
      "/Users/advithinair/anaconda3/lib/python3.7/site-packages/sklearn/linear_model/logistic.py:460: FutureWarning: Default multi_class will be changed to 'auto' in 0.22. Specify the multi_class option to silence this warning.\n",
      "  \"this warning.\", FutureWarning)\n",
      "/Users/advithinair/anaconda3/lib/python3.7/site-packages/sklearn/linear_model/logistic.py:433: FutureWarning: Default solver will be changed to 'lbfgs' in 0.22. Specify a solver to silence this warning.\n",
      "  FutureWarning)\n"
     ]
    },
    {
     "name": "stdout",
     "output_type": "stream",
     "text": [
      "0.7363330998861379\n"
     ]
    },
    {
     "name": "stderr",
     "output_type": "stream",
     "text": [
      "/Users/advithinair/anaconda3/lib/python3.7/site-packages/sklearn/linear_model/logistic.py:460: FutureWarning: Default multi_class will be changed to 'auto' in 0.22. Specify the multi_class option to silence this warning.\n",
      "  \"this warning.\", FutureWarning)\n"
     ]
    }
   ],
   "source": [
    "from sklearn.model_selection import cross_val_score\n",
    "accuracies = cross_val_score(LogisticRegression(), X, y, cv=10)\n",
    "print(accuracies.mean())"
   ]
  },
  {
   "cell_type": "code",
   "execution_count": 89,
   "metadata": {},
   "outputs": [
    {
     "name": "stderr",
     "output_type": "stream",
     "text": [
      "/Users/advithinair/anaconda3/lib/python3.7/site-packages/sklearn/linear_model/logistic.py:433: FutureWarning: Default solver will be changed to 'lbfgs' in 0.22. Specify a solver to silence this warning.\n",
      "  FutureWarning)\n",
      "/Users/advithinair/anaconda3/lib/python3.7/site-packages/sklearn/linear_model/logistic.py:460: FutureWarning: Default multi_class will be changed to 'auto' in 0.22. Specify the multi_class option to silence this warning.\n",
      "  \"this warning.\", FutureWarning)\n"
     ]
    },
    {
     "data": {
      "text/html": [
       "<div>\n",
       "<style scoped>\n",
       "    .dataframe tbody tr th:only-of-type {\n",
       "        vertical-align: middle;\n",
       "    }\n",
       "\n",
       "    .dataframe tbody tr th {\n",
       "        vertical-align: top;\n",
       "    }\n",
       "\n",
       "    .dataframe thead th {\n",
       "        text-align: right;\n",
       "    }\n",
       "</style>\n",
       "<table border=\"1\" class=\"dataframe\">\n",
       "  <thead>\n",
       "    <tr style=\"text-align: right;\">\n",
       "      <th></th>\n",
       "      <th>Proba_Hillary</th>\n",
       "      <th>Proba_Modi</th>\n",
       "      <th>Proba_Kim</th>\n",
       "      <th>Proba_Kohli</th>\n",
       "    </tr>\n",
       "  </thead>\n",
       "  <tbody>\n",
       "    <tr>\n",
       "      <th>0</th>\n",
       "      <td>0.635843</td>\n",
       "      <td>0.025484</td>\n",
       "      <td>0.238063</td>\n",
       "      <td>0.100611</td>\n",
       "    </tr>\n",
       "    <tr>\n",
       "      <th>1</th>\n",
       "      <td>0.178216</td>\n",
       "      <td>0.457166</td>\n",
       "      <td>0.246741</td>\n",
       "      <td>0.117877</td>\n",
       "    </tr>\n",
       "    <tr>\n",
       "      <th>2</th>\n",
       "      <td>0.062191</td>\n",
       "      <td>0.735287</td>\n",
       "      <td>0.039548</td>\n",
       "      <td>0.162974</td>\n",
       "    </tr>\n",
       "    <tr>\n",
       "      <th>3</th>\n",
       "      <td>0.044142</td>\n",
       "      <td>0.231994</td>\n",
       "      <td>0.267905</td>\n",
       "      <td>0.455959</td>\n",
       "    </tr>\n",
       "    <tr>\n",
       "      <th>4</th>\n",
       "      <td>0.230130</td>\n",
       "      <td>0.076317</td>\n",
       "      <td>0.154952</td>\n",
       "      <td>0.538600</td>\n",
       "    </tr>\n",
       "  </tbody>\n",
       "</table>\n",
       "</div>"
      ],
      "text/plain": [
       "   Proba_Hillary  Proba_Modi  Proba_Kim  Proba_Kohli\n",
       "0       0.635843    0.025484   0.238063     0.100611\n",
       "1       0.178216    0.457166   0.246741     0.117877\n",
       "2       0.062191    0.735287   0.039548     0.162974\n",
       "3       0.044142    0.231994   0.267905     0.455959\n",
       "4       0.230130    0.076317   0.154952     0.538600"
      ]
     },
     "execution_count": 89,
     "metadata": {},
     "output_type": "execute_result"
    }
   ],
   "source": [
    "estimator = LogisticRegression(penalty='l2',C=1.0)\n",
    "estimator.fit(X,y)\n",
    "source_test = [\n",
    "    \"The presidency doesn’t change who you are—it reveals who you are. And we’ve seen all we need to of Donald Trump.\",\n",
    "    \"Crooked Hillary is spending tremendous amounts of Wall Street money on false ads against me. She is a very dishonest person!\",\n",
    "    \"On the banks of the Ganga, prayed for India’s peace and prosperity. Glimpses from the magnificent Ganga Aarti in Kashi\",\n",
    "    \"Hey guys, I’m super excited to announce that Mobile Premier League is now the Number 1 Gaming App in India 🇮🇳🙏 Ab har gully se hero niklega jab saara India MPL khelega 👊👊👊 Download the @plaympl app today, play some of India's most popular games and win big everyday!\",\n",
    "    \"Sooooo Miss North dressed herself and thought she was ready for the day until I explained she couldn’t wear my boots.\"\n",
    "]\n",
    "Xtest = tfv.transform(source_test)\n",
    "pd.DataFrame(estimator.predict_proba(Xtest), columns=[\"Proba_Hillary\",\"Proba_Modi\", \"Proba_Kim\", \"Proba_Kohli\"])"
   ]
  },
  {
   "cell_type": "code",
   "execution_count": 90,
   "metadata": {},
   "outputs": [
    {
     "data": {
      "text/plain": [
       "array([[0.78337462, 0.06575565, 0.10097414, 0.04989559],\n",
       "       [0.35572289, 0.07449911, 0.37191302, 0.19786499],\n",
       "       [0.48051701, 0.07462299, 0.21498187, 0.22987813],\n",
       "       ...,\n",
       "       [0.14859968, 0.25398245, 0.35057088, 0.24684699],\n",
       "       [0.05265889, 0.04786003, 0.75872478, 0.1407563 ],\n",
       "       [0.14859968, 0.25398245, 0.35057088, 0.24684699]])"
      ]
     },
     "execution_count": 90,
     "metadata": {},
     "output_type": "execute_result"
    }
   ],
   "source": [
    "estimator.predict_proba(X)"
   ]
  },
  {
   "cell_type": "code",
   "execution_count": 91,
   "metadata": {},
   "outputs": [
    {
     "data": {
      "text/html": [
       "<div>\n",
       "<style scoped>\n",
       "    .dataframe tbody tr th:only-of-type {\n",
       "        vertical-align: middle;\n",
       "    }\n",
       "\n",
       "    .dataframe tbody tr th {\n",
       "        vertical-align: top;\n",
       "    }\n",
       "\n",
       "    .dataframe thead th {\n",
       "        text-align: right;\n",
       "    }\n",
       "</style>\n",
       "<table border=\"1\" class=\"dataframe\">\n",
       "  <thead>\n",
       "    <tr style=\"text-align: right;\">\n",
       "      <th></th>\n",
       "      <th>tweet_id</th>\n",
       "      <th>handle</th>\n",
       "      <th>retweet_count</th>\n",
       "      <th>text</th>\n",
       "      <th>mined_at</th>\n",
       "      <th>created_at</th>\n",
       "      <th>Proba_Hillary</th>\n",
       "      <th>Proba_Modi</th>\n",
       "      <th>Proba_Kim</th>\n",
       "      <th>Proba_Kohli</th>\n",
       "    </tr>\n",
       "  </thead>\n",
       "  <tbody>\n",
       "    <tr>\n",
       "      <th>0</th>\n",
       "      <td>1466486144443506698</td>\n",
       "      <td>HillaryClinton</td>\n",
       "      <td>1150</td>\n",
       "      <td>Trump's effort to subvert our democracy is ong...</td>\n",
       "      <td>2021-12-04 14:43:03.993041</td>\n",
       "      <td>Thu Dec 02 19:15:17 +0000 2021</td>\n",
       "      <td>0.783375</td>\n",
       "      <td>0.065756</td>\n",
       "      <td>0.100974</td>\n",
       "      <td>0.049896</td>\n",
       "    </tr>\n",
       "    <tr>\n",
       "      <th>0</th>\n",
       "      <td>1467050785032736768</td>\n",
       "      <td>narendramodi</td>\n",
       "      <td>1166</td>\n",
       "      <td>Addressing a public meeting in Dehradun. https...</td>\n",
       "      <td>2021-12-04 14:43:18.252132</td>\n",
       "      <td>Sat Dec 04 08:38:58 +0000 2021</td>\n",
       "      <td>0.783375</td>\n",
       "      <td>0.065756</td>\n",
       "      <td>0.100974</td>\n",
       "      <td>0.049896</td>\n",
       "    </tr>\n",
       "    <tr>\n",
       "      <th>0</th>\n",
       "      <td>1466398857651101697</td>\n",
       "      <td>imVkohli</td>\n",
       "      <td>10480</td>\n",
       "      <td>Back to Test cricket ❤️ https://t.co/IgjfuySCWK</td>\n",
       "      <td>2021-12-04 14:43:45.491414</td>\n",
       "      <td>Thu Dec 02 13:28:26 +0000 2021</td>\n",
       "      <td>0.783375</td>\n",
       "      <td>0.065756</td>\n",
       "      <td>0.100974</td>\n",
       "      <td>0.049896</td>\n",
       "    </tr>\n",
       "    <tr>\n",
       "      <th>0</th>\n",
       "      <td>1466860886899892230</td>\n",
       "      <td>KimKardashian</td>\n",
       "      <td>277</td>\n",
       "      <td>I know I really wanted to!!!! https://t.co/Lfo...</td>\n",
       "      <td>2021-12-04 14:43:31.838388</td>\n",
       "      <td>Fri Dec 03 20:04:23 +0000 2021</td>\n",
       "      <td>0.783375</td>\n",
       "      <td>0.065756</td>\n",
       "      <td>0.100974</td>\n",
       "      <td>0.049896</td>\n",
       "    </tr>\n",
       "    <tr>\n",
       "      <th>1</th>\n",
       "      <td>1466479975599640580</td>\n",
       "      <td>HillaryClinton</td>\n",
       "      <td>835</td>\n",
       "      <td>Thank you for sharing your story, Billie Jean....</td>\n",
       "      <td>2021-12-04 14:43:03.993051</td>\n",
       "      <td>Thu Dec 02 18:50:46 +0000 2021</td>\n",
       "      <td>0.355723</td>\n",
       "      <td>0.074499</td>\n",
       "      <td>0.371913</td>\n",
       "      <td>0.197865</td>\n",
       "    </tr>\n",
       "    <tr>\n",
       "      <th>...</th>\n",
       "      <td>...</td>\n",
       "      <td>...</td>\n",
       "      <td>...</td>\n",
       "      <td>...</td>\n",
       "      <td>...</td>\n",
       "      <td>...</td>\n",
       "      <td>...</td>\n",
       "      <td>...</td>\n",
       "      <td>...</td>\n",
       "      <td>...</td>\n",
       "    </tr>\n",
       "    <tr>\n",
       "      <th>3210</th>\n",
       "      <td>1322488276738056192</td>\n",
       "      <td>narendramodi</td>\n",
       "      <td>1975</td>\n",
       "      <td>Be it in the civil services or beyond, energy,...</td>\n",
       "      <td>2021-12-04 14:43:30.712338</td>\n",
       "      <td>Sat Oct 31 10:39:10 +0000 2020</td>\n",
       "      <td>0.038811</td>\n",
       "      <td>0.703142</td>\n",
       "      <td>0.077429</td>\n",
       "      <td>0.180618</td>\n",
       "    </tr>\n",
       "    <tr>\n",
       "      <th>3211</th>\n",
       "      <td>1322488188653457408</td>\n",
       "      <td>narendramodi</td>\n",
       "      <td>2410</td>\n",
       "      <td>I urged the young civil servants to make decis...</td>\n",
       "      <td>2021-12-04 14:43:30.712339</td>\n",
       "      <td>Sat Oct 31 10:38:49 +0000 2020</td>\n",
       "      <td>0.042824</td>\n",
       "      <td>0.520609</td>\n",
       "      <td>0.033742</td>\n",
       "      <td>0.402825</td>\n",
       "    </tr>\n",
       "    <tr>\n",
       "      <th>3212</th>\n",
       "      <td>1322488040615497729</td>\n",
       "      <td>narendramodi</td>\n",
       "      <td>2097</td>\n",
       "      <td>Today’s Aarambh session was held with young of...</td>\n",
       "      <td>2021-12-04 14:43:30.712341</td>\n",
       "      <td>Sat Oct 31 10:38:14 +0000 2020</td>\n",
       "      <td>0.034085</td>\n",
       "      <td>0.812470</td>\n",
       "      <td>0.059845</td>\n",
       "      <td>0.093600</td>\n",
       "    </tr>\n",
       "    <tr>\n",
       "      <th>3213</th>\n",
       "      <td>1322456736025006082</td>\n",
       "      <td>narendramodi</td>\n",
       "      <td>2757</td>\n",
       "      <td>हमें यह हमेशा याद रखना है कि हम सभी के लिए सर्...</td>\n",
       "      <td>2021-12-04 14:43:30.712342</td>\n",
       "      <td>Sat Oct 31 08:33:50 +0000 2020</td>\n",
       "      <td>0.101604</td>\n",
       "      <td>0.805025</td>\n",
       "      <td>0.033670</td>\n",
       "      <td>0.059701</td>\n",
       "    </tr>\n",
       "    <tr>\n",
       "      <th>3214</th>\n",
       "      <td>1322456653015470082</td>\n",
       "      <td>narendramodi</td>\n",
       "      <td>2106</td>\n",
       "      <td>आज हम 130 करोड़ देशवासी मिलकर एक ऐसे राष्ट्र क...</td>\n",
       "      <td>2021-12-04 14:43:30.712343</td>\n",
       "      <td>Sat Oct 31 08:33:30 +0000 2020</td>\n",
       "      <td>0.056596</td>\n",
       "      <td>0.823110</td>\n",
       "      <td>0.046849</td>\n",
       "      <td>0.073445</td>\n",
       "    </tr>\n",
       "  </tbody>\n",
       "</table>\n",
       "<p>10657 rows × 10 columns</p>\n",
       "</div>"
      ],
      "text/plain": [
       "                 tweet_id          handle  retweet_count  \\\n",
       "0     1466486144443506698  HillaryClinton           1150   \n",
       "0     1467050785032736768    narendramodi           1166   \n",
       "0     1466398857651101697        imVkohli          10480   \n",
       "0     1466860886899892230   KimKardashian            277   \n",
       "1     1466479975599640580  HillaryClinton            835   \n",
       "...                   ...             ...            ...   \n",
       "3210  1322488276738056192    narendramodi           1975   \n",
       "3211  1322488188653457408    narendramodi           2410   \n",
       "3212  1322488040615497729    narendramodi           2097   \n",
       "3213  1322456736025006082    narendramodi           2757   \n",
       "3214  1322456653015470082    narendramodi           2106   \n",
       "\n",
       "                                                   text  \\\n",
       "0     Trump's effort to subvert our democracy is ong...   \n",
       "0     Addressing a public meeting in Dehradun. https...   \n",
       "0       Back to Test cricket ❤️ https://t.co/IgjfuySCWK   \n",
       "0     I know I really wanted to!!!! https://t.co/Lfo...   \n",
       "1     Thank you for sharing your story, Billie Jean....   \n",
       "...                                                 ...   \n",
       "3210  Be it in the civil services or beyond, energy,...   \n",
       "3211  I urged the young civil servants to make decis...   \n",
       "3212  Today’s Aarambh session was held with young of...   \n",
       "3213  हमें यह हमेशा याद रखना है कि हम सभी के लिए सर्...   \n",
       "3214  आज हम 130 करोड़ देशवासी मिलकर एक ऐसे राष्ट्र क...   \n",
       "\n",
       "                       mined_at                      created_at  \\\n",
       "0    2021-12-04 14:43:03.993041  Thu Dec 02 19:15:17 +0000 2021   \n",
       "0    2021-12-04 14:43:18.252132  Sat Dec 04 08:38:58 +0000 2021   \n",
       "0    2021-12-04 14:43:45.491414  Thu Dec 02 13:28:26 +0000 2021   \n",
       "0    2021-12-04 14:43:31.838388  Fri Dec 03 20:04:23 +0000 2021   \n",
       "1    2021-12-04 14:43:03.993051  Thu Dec 02 18:50:46 +0000 2021   \n",
       "...                         ...                             ...   \n",
       "3210 2021-12-04 14:43:30.712338  Sat Oct 31 10:39:10 +0000 2020   \n",
       "3211 2021-12-04 14:43:30.712339  Sat Oct 31 10:38:49 +0000 2020   \n",
       "3212 2021-12-04 14:43:30.712341  Sat Oct 31 10:38:14 +0000 2020   \n",
       "3213 2021-12-04 14:43:30.712342  Sat Oct 31 08:33:50 +0000 2020   \n",
       "3214 2021-12-04 14:43:30.712343  Sat Oct 31 08:33:30 +0000 2020   \n",
       "\n",
       "      Proba_Hillary  Proba_Modi  Proba_Kim  Proba_Kohli  \n",
       "0          0.783375    0.065756   0.100974     0.049896  \n",
       "0          0.783375    0.065756   0.100974     0.049896  \n",
       "0          0.783375    0.065756   0.100974     0.049896  \n",
       "0          0.783375    0.065756   0.100974     0.049896  \n",
       "1          0.355723    0.074499   0.371913     0.197865  \n",
       "...             ...         ...        ...          ...  \n",
       "3210       0.038811    0.703142   0.077429     0.180618  \n",
       "3211       0.042824    0.520609   0.033742     0.402825  \n",
       "3212       0.034085    0.812470   0.059845     0.093600  \n",
       "3213       0.101604    0.805025   0.033670     0.059701  \n",
       "3214       0.056596    0.823110   0.046849     0.073445  \n",
       "\n",
       "[10657 rows x 10 columns]"
      ]
     },
     "execution_count": 91,
     "metadata": {},
     "output_type": "execute_result"
    }
   ],
   "source": [
    "Probas_x = pd.DataFrame(estimator.predict_proba(X), columns= [\"Proba_Hillary\", \"Proba_Modi\", \"Proba_Kim\", \"Proba_Kohli\"])\n",
    "joined_x = pd.merge(tweets, Probas_x, left_index=True, right_index=True)\n",
    "joined_x"
   ]
  },
  {
   "cell_type": "code",
   "execution_count": 101,
   "metadata": {},
   "outputs": [
    {
     "name": "stdout",
     "output_type": "stream",
     "text": [
      "Done\n"
     ]
    }
   ],
   "source": [
    "import tweepy\n",
    "import datetime\n",
    "import xlsxwriter\n",
    "\n",
    "consumer_key ='aTSujD4oxgvgpgeHrwGOJSJsU'\n",
    "consumer_secret ='zWCl0ALnLgxeXMHssVkOJBWtaCY2wRULmuceNnlB8gV8ONjOGg'\n",
    "access_key ='1121454937928388609-lMwUhwTkIWdi5Ea9uaF30XyXhwo8Ne'\n",
    "access_secret ='a93kDTvNFb25UEuz8jLxuXNWPTsNjT5bHCrrbCY5pjIeV'\n",
    "\n",
    "auth = tweepy.OAuthHandler(consumer_key, consumer_secret)\n",
    "auth.set_access_token(access_key, access_secret)\n",
    "\n",
    "api = tweepy.API(auth)\n",
    "print(\"Done\")"
   ]
  },
  {
   "cell_type": "code",
   "execution_count": 102,
   "metadata": {},
   "outputs": [
    {
     "data": {
      "text/html": [
       "<div>\n",
       "<style scoped>\n",
       "    .dataframe tbody tr th:only-of-type {\n",
       "        vertical-align: middle;\n",
       "    }\n",
       "\n",
       "    .dataframe tbody tr th {\n",
       "        vertical-align: top;\n",
       "    }\n",
       "\n",
       "    .dataframe thead th {\n",
       "        text-align: right;\n",
       "    }\n",
       "</style>\n",
       "<table border=\"1\" class=\"dataframe\">\n",
       "  <thead>\n",
       "    <tr style=\"text-align: right;\">\n",
       "      <th></th>\n",
       "      <th>Proba_Hillary</th>\n",
       "      <th>Proba_Modi</th>\n",
       "      <th>Proba_Kim</th>\n",
       "      <th>Proba_Kohli</th>\n",
       "    </tr>\n",
       "  </thead>\n",
       "  <tbody>\n",
       "    <tr>\n",
       "      <th>0</th>\n",
       "      <td>0.355723</td>\n",
       "      <td>0.074499</td>\n",
       "      <td>0.371913</td>\n",
       "      <td>0.197865</td>\n",
       "    </tr>\n",
       "    <tr>\n",
       "      <th>1</th>\n",
       "      <td>0.480517</td>\n",
       "      <td>0.074623</td>\n",
       "      <td>0.214982</td>\n",
       "      <td>0.229878</td>\n",
       "    </tr>\n",
       "    <tr>\n",
       "      <th>2</th>\n",
       "      <td>0.242342</td>\n",
       "      <td>0.061198</td>\n",
       "      <td>0.442769</td>\n",
       "      <td>0.253691</td>\n",
       "    </tr>\n",
       "    <tr>\n",
       "      <th>3</th>\n",
       "      <td>0.148600</td>\n",
       "      <td>0.253982</td>\n",
       "      <td>0.350571</td>\n",
       "      <td>0.246847</td>\n",
       "    </tr>\n",
       "    <tr>\n",
       "      <th>4</th>\n",
       "      <td>0.289988</td>\n",
       "      <td>0.066918</td>\n",
       "      <td>0.177166</td>\n",
       "      <td>0.465928</td>\n",
       "    </tr>\n",
       "    <tr>\n",
       "      <th>5</th>\n",
       "      <td>0.268029</td>\n",
       "      <td>0.273208</td>\n",
       "      <td>0.103951</td>\n",
       "      <td>0.354812</td>\n",
       "    </tr>\n",
       "    <tr>\n",
       "      <th>6</th>\n",
       "      <td>0.237710</td>\n",
       "      <td>0.429059</td>\n",
       "      <td>0.219561</td>\n",
       "      <td>0.113671</td>\n",
       "    </tr>\n",
       "    <tr>\n",
       "      <th>7</th>\n",
       "      <td>0.576033</td>\n",
       "      <td>0.248258</td>\n",
       "      <td>0.118941</td>\n",
       "      <td>0.056768</td>\n",
       "    </tr>\n",
       "    <tr>\n",
       "      <th>8</th>\n",
       "      <td>0.780888</td>\n",
       "      <td>0.104869</td>\n",
       "      <td>0.068084</td>\n",
       "      <td>0.046159</td>\n",
       "    </tr>\n",
       "    <tr>\n",
       "      <th>9</th>\n",
       "      <td>0.148600</td>\n",
       "      <td>0.253982</td>\n",
       "      <td>0.350571</td>\n",
       "      <td>0.246847</td>\n",
       "    </tr>\n",
       "    <tr>\n",
       "      <th>10</th>\n",
       "      <td>0.712967</td>\n",
       "      <td>0.119310</td>\n",
       "      <td>0.073024</td>\n",
       "      <td>0.094698</td>\n",
       "    </tr>\n",
       "    <tr>\n",
       "      <th>11</th>\n",
       "      <td>0.699612</td>\n",
       "      <td>0.117912</td>\n",
       "      <td>0.118812</td>\n",
       "      <td>0.063664</td>\n",
       "    </tr>\n",
       "    <tr>\n",
       "      <th>12</th>\n",
       "      <td>0.548387</td>\n",
       "      <td>0.034852</td>\n",
       "      <td>0.135698</td>\n",
       "      <td>0.281064</td>\n",
       "    </tr>\n",
       "    <tr>\n",
       "      <th>13</th>\n",
       "      <td>0.549419</td>\n",
       "      <td>0.130502</td>\n",
       "      <td>0.183435</td>\n",
       "      <td>0.136644</td>\n",
       "    </tr>\n",
       "    <tr>\n",
       "      <th>14</th>\n",
       "      <td>0.296085</td>\n",
       "      <td>0.203290</td>\n",
       "      <td>0.221875</td>\n",
       "      <td>0.278750</td>\n",
       "    </tr>\n",
       "    <tr>\n",
       "      <th>15</th>\n",
       "      <td>0.309041</td>\n",
       "      <td>0.107009</td>\n",
       "      <td>0.271635</td>\n",
       "      <td>0.312315</td>\n",
       "    </tr>\n",
       "    <tr>\n",
       "      <th>16</th>\n",
       "      <td>0.771458</td>\n",
       "      <td>0.055784</td>\n",
       "      <td>0.076827</td>\n",
       "      <td>0.095931</td>\n",
       "    </tr>\n",
       "    <tr>\n",
       "      <th>17</th>\n",
       "      <td>0.152385</td>\n",
       "      <td>0.044705</td>\n",
       "      <td>0.087172</td>\n",
       "      <td>0.715738</td>\n",
       "    </tr>\n",
       "    <tr>\n",
       "      <th>18</th>\n",
       "      <td>0.545032</td>\n",
       "      <td>0.191728</td>\n",
       "      <td>0.200421</td>\n",
       "      <td>0.062819</td>\n",
       "    </tr>\n",
       "  </tbody>\n",
       "</table>\n",
       "</div>"
      ],
      "text/plain": [
       "    Proba_Hillary  Proba_Modi  Proba_Kim  Proba_Kohli\n",
       "0        0.355723    0.074499   0.371913     0.197865\n",
       "1        0.480517    0.074623   0.214982     0.229878\n",
       "2        0.242342    0.061198   0.442769     0.253691\n",
       "3        0.148600    0.253982   0.350571     0.246847\n",
       "4        0.289988    0.066918   0.177166     0.465928\n",
       "5        0.268029    0.273208   0.103951     0.354812\n",
       "6        0.237710    0.429059   0.219561     0.113671\n",
       "7        0.576033    0.248258   0.118941     0.056768\n",
       "8        0.780888    0.104869   0.068084     0.046159\n",
       "9        0.148600    0.253982   0.350571     0.246847\n",
       "10       0.712967    0.119310   0.073024     0.094698\n",
       "11       0.699612    0.117912   0.118812     0.063664\n",
       "12       0.548387    0.034852   0.135698     0.281064\n",
       "13       0.549419    0.130502   0.183435     0.136644\n",
       "14       0.296085    0.203290   0.221875     0.278750\n",
       "15       0.309041    0.107009   0.271635     0.312315\n",
       "16       0.771458    0.055784   0.076827     0.095931\n",
       "17       0.152385    0.044705   0.087172     0.715738\n",
       "18       0.545032    0.191728   0.200421     0.062819"
      ]
     },
     "execution_count": 102,
     "metadata": {},
     "output_type": "execute_result"
    }
   ],
   "source": [
    "auth = tweepy.OAuthHandler(consumer_key, consumer_secret) \n",
    "username=\"HillaryClinton\"\n",
    "\n",
    "auth.set_access_token(access_key, access_secret) \n",
    "from textacy import preprocess_text\n",
    "api = tweepy.API(auth) \n",
    "\n",
    "number_of_tweets=20\n",
    "tweets = api.user_timeline(screen_name=username) \n",
    "\n",
    "tmp=[]\n",
    "tweets_for_csv = [tweet.text for tweet in tweets]  \n",
    "for j in tweets_for_csv:\n",
    "    tmp.append(j)  \n",
    "tmp=[preprocess_text(x, fix_unicode=True, lowercase=True, no_urls=True, no_emails=True, no_phone_numbers=True, no_currency_symbols=True, no_punct=True, no_accents=True) for x in tmp]\n",
    "\n",
    "Xtest = tfv.transform(tmp[1:])\n",
    "pd.DataFrame(estimator.predict_proba(Xtest), columns=[\"Proba_Hillary\", \"Proba_Modi\", \"Proba_Kim\", \"Proba_Kohli\"])"
   ]
  },
  {
   "cell_type": "code",
   "execution_count": null,
   "metadata": {},
   "outputs": [],
   "source": [
    "tweets"
   ]
  },
  {
   "cell_type": "code",
   "execution_count": null,
   "metadata": {},
   "outputs": [],
   "source": [
    "username = \"HillaryClinton\"\n",
    "startDate = datetime.datetime(2014, 6, 1, 0, 0, 0)\n",
    "endDate = datetime.datetime(2015, 1, 1, 0, 0, 0)\n",
    "tweets = []\n",
    "tmpTweets = api.user_timeline(username)\n",
    "for tweet in tmpTweets:\n",
    "    if tweet.created_at < endDate and tweet.created_at > startDate:\n",
    "        tweets.append(tweet)\n",
    "while (tmpTweets[-1].created_at > startDate):\n",
    "    #print(\"Last Tweet @\", tmpTweets[-1].created_at, \" - fetching some more\")\n",
    "    tmpTweets = api.user_timeline(username, max_id = tmpTweets[-1].id)\n",
    "    for tweet in tmpTweets:\n",
    "        if tweet.created_at < endDate and tweet.created_at > startDate:\n",
    "            tweets.append(tweet)\n",
    "workbook = xlsxwriter.Workbook(username + \".xlsx\")\n",
    "worksheet = workbook.add_worksheet()\n",
    "row = 0\n",
    "for tweet in tweets:\n",
    "    worksheet.write_string(row, 0, str(tweet.id))\n",
    "    worksheet.write_string(row, 1, str(tweet.created_at))\n",
    "    worksheet.write(row, 2, tweet.text)\n",
    "    worksheet.write_string(row, 3, str(tweet.in_reply_to_status_id))\n",
    "    row += 1\n",
    "workbook.close()"
   ]
  }
 ],
 "metadata": {
  "kernelspec": {
   "display_name": "Python 3",
   "language": "python",
   "name": "python3"
  },
  "language_info": {
   "codemirror_mode": {
    "name": "ipython",
    "version": 3
   },
   "file_extension": ".py",
   "mimetype": "text/x-python",
   "name": "python",
   "nbconvert_exporter": "python",
   "pygments_lexer": "ipython3",
   "version": "3.7.4"
  }
 },
 "nbformat": 4,
 "nbformat_minor": 2
}
